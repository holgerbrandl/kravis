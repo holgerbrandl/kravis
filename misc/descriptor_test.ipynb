{
 "cells": [
  {
   "cell_type": "code",
   "execution_count": 1,
   "metadata": {
    "pycharm": {
     "name": "#%%\n"
    }
   },
   "outputs": [],
   "source": [
    "@file:Repository(\"*mavenLocal\")\n",
    "\n",
    "%useLatestDescriptors on"
   ]
  },
  {
   "cell_type": "code",
   "execution_count": 2,
   "metadata": {
    "pycharm": {
     "name": "#%%\n"
    }
   },
   "outputs": [],
   "source": [
    "%use kravis(0.8.4-SNAPSHOT)\n",
    "\n",
    "import krangl.irisData"
   ]
  },
  {
   "cell_type": "code",
   "execution_count": 3,
   "metadata": {
    "pycharm": {
     "name": "#%%\n"
    }
   },
   "outputs": [],
   "source": [
    "irisData.plot(x = \"Species\", y = \"Sepal.Length\", fill = \"Species\")\n",
    "    .addPreamble(\"\"\"devtools::source_url(\"https://git.io/fAiQN\")\"\"\")\n",
    "    .addCustom(\"\"\"geom_flat_violin(scale = \"count\", trim = FALSE)\"\"\")\n",
    "    .geomDotplot(binaxis = \"y\", dotsize = 0.5, stackdir = \"down\", binWidth = 0.1, position = PositionNudge(-0.025))\n",
    "    .theme(legendPosition = \"none\")\n",
    "    .labs(x = \"Species\", y = \"Sepal length (cm)\")"
   ]
  },
  {
   "cell_type": "code",
   "execution_count": null,
   "metadata": {
    "pycharm": {
     "name": "#%%\n"
    }
   },
   "outputs": [],
   "source": []
  },
  {
   "cell_type": "code",
   "execution_count": null,
   "metadata": {},
   "outputs": [],
   "source": []
  },
  {
   "cell_type": "code",
   "execution_count": null,
   "metadata": {},
   "outputs": [],
   "source": [
    "%use kravis(0.7.91-SNAPSHOT)\n",
    "\n",
    "import krangl.irisData"
   ]
  },
  {
   "cell_type": "code",
   "execution_count": null,
   "metadata": {},
   "outputs": [],
   "source": [
    "irisData.plot(x = \"Species\", y = \"Sepal.Length\", fill = \"Species\")\n",
    "    .addPreamble(\"\"\"devtools::source_url(\"https://git.io/fAiQN\")\"\"\")\n",
    "    .addCustom(\"\"\"geom_flat_violin(scale = \"count\", trim = FALSE)\"\"\")\n",
    "    .geomDotplot(binaxis = \"y\", dotsize = 0.5, stackdir = \"down\", binWidth = 0.1, position = PositionNudge(-0.025))\n",
    "    .theme(legendPosition = \"none\")\n",
    "    .labs(x = \"Species\", y = \"Sepal length (cm)\")"
   ]
  },
  {
   "cell_type": "code",
   "execution_count": null,
   "metadata": {},
   "outputs": [],
   "source": []
  }
 ],
 "metadata": {
  "kernelspec": {
   "display_name": "Kotlin",
   "language": "kotlin",
   "name": "kotlin"
  },
  "language_info": {
   "codemirror_mode": "text/x-kotlin",
   "file_extension": ".kt",
   "mimetype": "text/x-kotlin",
   "name": "kotlin",
   "nbconvert_exporter": "",
   "pygments_lexer": "kotlin",
   "version": "1.6.20-dev-6372"
  }
 },
 "nbformat": 4,
 "nbformat_minor": 4
}